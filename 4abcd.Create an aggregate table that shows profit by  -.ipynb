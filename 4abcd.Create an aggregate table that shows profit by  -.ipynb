from pyspark.sql import functions as F

# Annual profit analysis
profit_by_year = enriched_orders.groupby('Year').agg(
    F.sum('Profit').alias('Total_Profit')
)

# Product Category profit analysis
profit_by_category = enriched_orders.groupby('Category').agg(
    F.sum('Profit').alias('Total_Profit')
)

# Product Sub-Category profit analysis
profit_by_sub_category = enriched_orders.groupby('Sub-Category').agg(
    F.sum('Profit').alias('Total_Profit')
)

# Customer profit analysis
profit_by_cust = enriched_orders.groupby('Customer_Name').agg(
    F.sum('Profit').alias('Total_Profit')
)

display(profit_by_year)
display(profit_by_category)
display(profit_by_sub_category)
display(profit_by_cust)