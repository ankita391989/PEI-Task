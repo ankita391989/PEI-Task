# 5.Using SQL output the following aggregates-a.Profit by Customer_UnitTest

import pytest

# ------------------- Fixtures for test data setup -------------------

@pytest.fixture
def db_connection():
    """
    Fixture: Provide a mock or real database connection for SQL execution.
    """
    # Replace with actual connection or mock as needed
    # For demonstration, assume a mock object with required methods
    class MockDB:
        def __init__(self):
            self.data = []
            self.columns = {"year", "profit"}
        def clear(self):
            self.data = []
            self.columns = {"year", "profit"}
        def insert(self, rows):
            self.data.extend(rows)
        def remove_column(self, col):
            self.columns.discard(col)
        def run_query(self, query):
            # Simulate SQL SUM aggregation by year
            if "yr" in query and "yr" not in self.columns:
                raise Exception("Invalid column name")
            if "profit" not in self.columns:
                raise Exception("profit does not exist")
            if not self.data or "year" not in self.columns:
                return []
            result = {}
            for row in self.data:
                year = row.get("year")
                profit = row.get("profit")
                if profit is None or "profit" not in self.columns:
                    continue
                result[year] = result.get(year, 0) + profit
            return [{"year": k, "total_profit": v} for k, v in result.items()]
    db = MockDB()
    return db

def clear_enriched_orders_table(db):
    db.clear()

def insert_test_data(db, rows):
    db.insert(rows)

def run_sql_query(db, query):
    return db.run_query(query)

def remove_column(db, col):
    db.remove_column(col)

# ------------------- Parametrized and Edge Case Tests -------------------

@pytest.mark.parametrize("test_rows,expected", [
    # Basic: Two years, positive profits
    ([{"year": 2021, "profit": 1000}, {"year": 2022, "profit": 2000}],
     [{"year": 2021, "total_profit": 1000}, {"year": 2022, "total_profit": 2000}]),
    # Multiple rows for same year
    ([{"year": 2023, "profit": 100}, {"year": 2023, "profit": 200}, {"year": 2023, "profit": 300}],
     [{"year": 2023, "total_profit": 600}]),
    # Multiple years
    ([{"year": 2020, "profit": 10}, {"year": 2021, "profit": 20}, {"year": 2022, "profit": 30}],
     [{"year": 2020, "total_profit": 10}, {"year": 2021, "total_profit": 20}, {"year": 2022, "total_profit": 30}]),
    # Zero and positive profits
    ([{"year": 2024, "profit": 0}, {"year": 2024, "profit": 2000}],
     [{"year": 2024, "total_profit": 2000}]),
    # Negative and positive profits
    ([{"year": 2022, "profit": -1000}, {"year": 2022, "profit": 2000}],
     [{"year": 2022, "total_profit": 1000}]),
    # Null profit ignored
    ([{"year": 2022, "profit": None}, {"year": 2022, "profit": 1000}],
     [{"year": 2022, "total_profit": 1000}]),
    # Null year grouping
    ([{"year": None, "profit": 500}, {"year": 2025, "profit": 1000}],
     [{"year": None, "total_profit": 500}, {"year": 2025, "total_profit": 1000}]),
])
def test_total_profit_by_year_aggregation(db_connection, test_rows, expected):
    """
    Parametrized: Test SUM(profit) by year for various edge cases and input scenarios.
    """
    clear_enriched_orders_table(db_connection)
    insert_test_data(db_connection, test_rows)
    query = "SELECT year, SUM(profit) AS total_profit FROM enriched_orders GROUP BY year;"
    result = run_sql_query(db_connection, query)
    # Compare sets for unordered results
    assert {tuple(sorted(r.items())) for r in result} == {tuple(sorted(r.items())) for r in expected}

def test_empty_table_returns_empty_result(db_connection):
    """
    Edge: Querying an empty table should return an empty result.
    """
    clear_enriched_orders_table(db_connection)
    query = "SELECT year, SUM(profit) AS total_profit FROM enriched_orders GROUP BY year;"
    result = run_sql_query(db_connection, query)
    assert result == []

def test_no_duplicate_years_in_result(db_connection):
    """
    Data Integrity: Each year should appear only once in the aggregation result.
    """
    clear_enriched_orders_table(db_connection)
    insert_test_data(db_connection, [
        {"year": 2022, "profit": 1000},
        {"year": 2022, "profit": 2000},
        {"year": 2023, "profit": 3000}
    ])
    query = "SELECT year, SUM(profit) AS total_profit FROM enriched_orders GROUP BY year;"
    result = run_sql_query(db_connection, query)
    years = [row["year"] for row in result]
    assert len(years) == len(set(years))

@pytest.mark.parametrize("query,expected_error", [
    ("SELECT yr, SUM(profit) AS total_profit FROM enriched_orders GROUP BY yr;", "Invalid column name"),
    ("SELECT year, SUM(profit) AS total_profit FROM enriched_orders GROUP BY year;", "does not exist"),
])
def test_invalid_column_name_or_missing_profit_raises_error(db_connection, query, expected_error):
    """
    Error Handling: Referencing a non-existent column or missing profit should raise an error.
    """
    if "profit" in query:
        remove_column(db_connection, "profit")
    with pytest.raises(Exception) as excinfo:
        run_sql_query(db_connection, query)
    assert expected_error in str(excinfo.value)

def test_total_profit_data_type_is_numeric(db_connection):
    """
    Data Integrity: total_profit should be numeric (int or float).
    """
    clear_enriched_orders_table(db_connection)
    insert_test_data(db_connection, [{"year": 2022, "profit": 1000}])
    query = "SELECT year, SUM(profit) AS total_profit FROM enriched_orders GROUP BY year;"
    result = run_sql_query(db_connection, query)
    assert isinstance(result[0]["total_profit"], (int, float))

def test_groupby_result_schema(db_connection):
    """
    Data Integrity: Result should have exactly two columns: year and total_profit.
    """
    clear_enriched_orders_table(db_connection)
    insert_test_data(db_connection, [{"year": 2022, "profit": 1000}])
    query = "SELECT year, SUM(profit) AS total_profit FROM enriched_orders GROUP BY year;"
    result = run_sql_query(db_connection, query)
    assert set(result[0].keys()) == {"year", "total_profit"}

def test_run_sql_query_mock(monkeypatch):
    """
    Mocking: Ensure run_sql_query is called and result is returned as expected.
    """
    mock_run = lambda db, query: [{"year": 2022, "total_profit": 1000}]
    monkeypatch.setattr(__name__, "run_sql_query", mock_run)
    db = object()
    query = "SELECT year, SUM(profit) AS total_profit FROM enriched_orders GROUP BY year;"
    result = run_sql_query(db, query)
    assert result == [{"year": 2022, "total_profit": 1000}]

# ------------------- Column Name Sanitization Logic -------------------

@pytest.mark.parametrize("input_cols,expected_cols", [
    (["order_id", "profit"], ["order_id", "profit"]),
    (["year", "total profit"], ["year", "total_profit"]),
])
def test_column_name_sanitization(input_cols, expected_cols):
    """
    Test that column name sanitization replaces spaces with underscores and preserves names.
    """
    sanitized = [col.replace(' ', '_') for col in input_cols]
    assert sanitized == expected_cols

# ------------------- Date Parsing Logic -------------------

@pytest.mark.parametrize("date_str,expected", [
    ("1/1/2022", "2022-01-01"),
    ("31/12/2021", "2021-12-31"),
    ("15/2/2022", "2022-02-15"),
    ("2022/1/1", None),  # Invalid format
    ("", None),            # Empty string
    (None, None)           # None value
])
def test_parse_date_dd_mm_yyyy(date_str, expected):
    """
    Test that d/m/yyyy date strings are parsed correctly, and invalid formats return None.
    """
    import pandas as pd
    def parse_date(date_str):
        try:
            return pd.to_datetime(date_str, format='%d/%m/%Y').strftime("%Y-%m-%d")
        except Exception:
            return None
    assert parse_date(date_str) == expected