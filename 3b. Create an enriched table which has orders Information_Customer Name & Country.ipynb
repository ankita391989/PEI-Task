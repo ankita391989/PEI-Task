# 3b. Create an enriched table which has orders Information_Customer Name & Country

spark_orders_df = spark.table('orders')
spark_customers_df = spark.table('customers')

from pyspark.sql import functions as F
from pyspark.sql.functions import to_date

spark_orders_df = spark_orders_df.withColumn(
    'order_date', to_date('order_date', 'd/M/yyyy')
).withColumn(
    'ship_date', to_date('ship_date', 'd/M/yyyy')
)

customer_metrics = spark_orders_df.groupBy('customer_id').agg(
    F.countDistinct('order_id').alias('total_orders'),
    F.sum('price').alias('total_sales'),
    F.sum('Profit').alias('total_profit'),
    F.sum('quantity').alias('total_quantity'),
    F.min('order_date').alias('first_order_date'),
    F.max('order_date').alias('last_order_date')
)

# Round the numeric columns
customer_metrics = customer_metrics.withColumn('total_sales', F.round('total_sales', 2)) \
                                   .withColumn('total_profit', F.round('total_profit', 2)) \
                                   .withColumn('total_quantity', F.round('total_quantity', 2))

# Join with customer details, Left join with Customer and Customer Metrics  
enriched_customers = spark_customers_df.join(
    customer_metrics,
    on='customer_id',
    how='left'
)

display(enriched_customers)