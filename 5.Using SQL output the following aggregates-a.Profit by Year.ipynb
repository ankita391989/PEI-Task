%sql
-- Profit by year
-- This query calculates the total profit for each year.
-- It groups the data in the `enriched_orders` table by the `Year` column
-- and uses the `SUM` function to aggregate the `Profit` column for each year.

SELECT 
  YEAR(
    to_date(order_date, 'd/M/yyyy')
  ) AS Year,
  SUM(profit) AS Total_Profit
FROM enriched_orders
GROUP BY 
  YEAR(
    to_date(order_date, 'd/M/yyyy')
  )
ORDER BY Year;