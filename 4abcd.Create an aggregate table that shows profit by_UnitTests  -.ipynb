import pytest

#  SUCCESS TEST CASES 

def test_profit_by_year_columns():
    assert set(profit_by_year.columns) == {'Year', 'Total_Profit'}

def test_profit_by_category_columns():
    assert set(profit_by_category.columns) == {'Category', 'Total_Profit'}

def test_profit_by_sub_category_columns():
    assert set(profit_by_sub_category.columns) == {'Sub-Category', 'Total_Profit'}

def test_profit_by_cust_columns():
    assert set(profit_by_cust.columns) == {'Customer_Name', 'Total_Profit'}

def test_profit_by_year_not_empty_if_orders():
    if enriched_orders.count() > 0:
        assert profit_by_year.count() > 0

def test_profit_by_category_not_empty_if_orders():
    if enriched_orders.count() > 0:
        assert profit_by_category.count() > 0

def test_profit_by_sub_category_not_empty_if_orders():
    if enriched_orders.count() > 0:
        assert profit_by_sub_category.count() > 0

def test_profit_by_cust_not_empty_if_orders():
    if enriched_orders.count() > 0:
        assert profit_by_cust.count() > 0

# -----------------------------------------------------------------------------------

def test_total_profit_aggregation_matches_manual_sum():
    manual_sum = enriched_orders.agg(F.sum('Profit')).collect()[0][0]
    agg_sum = profit_by_year.agg(F.sum('Total_Profit')).collect()[0][0]
    assert manual_sum == agg_sum

def test_no_duplicate_years_in_profit_by_year():
    total = profit_by_year.count()
    distinct = profit_by_year.select('Year').distinct().count()
    assert total == distinct

def test_no_duplicate_categories_in_profit_by_category():
    total = profit_by_category.count()
    distinct = profit_by_category.select('Category').distinct().count()
    assert total == distinct

def test_no_duplicate_sub_categories_in_profit_by_sub_category():
    total = profit_by_sub_category.count()
    distinct = profit_by_sub_category.select('Sub-Category').distinct().count()
    assert total == distinct

def test_no_duplicate_customers_in_profit_by_cust():
    total = profit_by_cust.count()
    distinct = profit_by_cust.select('Customer_Name').distinct().count()
    assert total == distinct

def test_years_match_orders():
    years_orders = set(row['Year'] for row in enriched_orders.select('Year').distinct().collect())
    years_agg = set(row['Year'] for row in profit_by_year.select('Year').distinct().collect())
    assert years_agg.issubset(years_orders)

def test_categories_match_orders():
    cats_orders = set(row['Category'] for row in enriched_orders.select('Category').distinct().collect())
    cats_agg = set(row['Category'] for row in profit_by_category.select('Category').distinct().collect())
    assert cats_agg.issubset(cats_orders)

def test_sub_categories_match_orders():
    subcats_orders = set(row['Sub-Category'] for row in enriched_orders.select('Sub-Category').distinct().collect())
    subcats_agg = set(row['Sub-Category'] for row in profit_by_sub_category.select('Sub-Category').distinct().collect())
    assert subcats_agg.issubset(subcats_orders)

def test_customers_match_orders():
    cust_orders = set(row['Customer_Name'] for row in enriched_orders.select('Customer_Name').distinct().collect())
    cust_agg = set(row['Customer_Name'] for row in profit_by_cust.select('Customer_Name').distinct().collect())
    assert cust_agg.issubset(cust_orders)

def test_total_profit_non_negative():
    for df in [profit_by_year, profit_by_category, profit_by_sub_category, profit_by_cust]:
        min_profit = df.agg(F.min('Total_Profit')).collect()[0][0]
        assert (min_profit is None) or (min_profit >= 0)

def test_total_profit_rounded():
    for df in [profit_by_year, profit_by_category, profit_by_sub_category, profit_by_cust]:
        profits = df.select('Total_Profit').rdd.flatMap(lambda x: x).filter(lambda x: x is not None)
        for v in profits.collect():
            assert round(v, 2) == v

# ----------------- EDGE CONDITIONS & ERROR HANDLING -----------------

def test_empty_enriched_orders_results():
    empty_df = enriched_orders.limit(0)
    by_year = empty_df.groupby('Year').agg(F.sum('Profit').alias('Total_Profit'))
    assert by_year.count() == 0

def test_null_group_keys_handling():
    # Add a row with nulls in group keys
    from pyspark.sql import Row
    row = Row(**{c: None for c in enriched_orders.columns})
    df_with_null = enriched_orders.union(spark.createDataFrame([row]))
    by_year = df_with_null.groupby('Year').agg(F.sum('Profit').alias('Total_Profit'))
    # Should include a row with Year=None if nulls present
    if df_with_null.filter(F.col('Year').isNull()).count() > 0:
        assert by_year.filter(F.col('Year').isNull()).count() >= 1

def test_error_on_missing_column_in_groupby():
    import pyspark
    with pytest.raises(pyspark.sql.utils.AnalysisException):
        enriched_orders.groupby('NonExistentColumn').agg(F.sum('Profit')).count()

def test_error_on_invalid_agg_column():
    import pyspark
    with pytest.raises(pyspark.sql.utils.AnalysisException):
        enriched_orders.groupby('Year').agg(F.sum('NonExistentColumn')).count()

def test_data_integrity_no_nulls_in_group_keys():
    for col in ['Year', 'Category', 'Sub-Category', 'Customer_Name']:
        nulls = enriched_orders.filter(F.col(col).isNull()).count()
        if nulls == 0:
            df = {
                'Year': profit_by_year,
                'Category': profit_by_category,
                'Sub-Category': profit_by_sub_category,
                'Customer_Name': profit_by_cust
            }[col]
            assert df.filter(F.col(col).isNull()).count() == 0

def test_data_integrity_total_profit_consistency():
    # The sum of profits by category should equal the sum by year and by customer
    sum_by_year = profit_by_year.agg(F.sum('Total_Profit')).collect()[0][0]
    sum_by_category = profit_by_category.agg(F.sum('Total_Profit')).collect()[0][0]
    sum_by_cust = profit_by_cust.agg(F.sum('Total_Profit')).collect()[0][0]
    # Allow for None if no data
    if sum_by_year is not None and sum_by_category is not None and sum_by_cust is not None:
        assert abs(sum_by_year - sum_by_category) < 1e-6
        assert abs(sum_by_year - sum_by_cust) < 1e-6

def test_groupby_result_schema_integrity():
    # All result DataFrames should have exactly two columns
    for df in [profit_by_year, profit_by_category, profit_by_sub_category, profit_by_cust]:
        assert len(df.columns) == 2