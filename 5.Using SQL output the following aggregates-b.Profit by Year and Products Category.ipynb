%sql
-- Profit by year and product category
-- This query calculates the total profit for each combination of year and product category.
-- It groups the data in the `enriched_orders` table by both `Year` and `Category` columns
-- and uses the `SUM` function to aggregate the `Profit` column for each group.

SELECT YEAR(
         to_date(order_date, 'd/M/yyyy')
       ) AS year,
       category,
       SUM(profit) AS total_profit
FROM enriched_orders
GROUP BY YEAR(
           to_date(order_date, 'd/M/yyyy')
         ), category;