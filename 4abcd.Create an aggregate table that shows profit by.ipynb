#4abcd.Create an aggregate table that shows profit by

from pyspark.sql import functions as F

orders_df = spark.read.table('orders')
products_df = spark.read.table("products")

enriched_orders = orders_df.join(
    products_df.select(
        "product_id",
        "category",
        "sub_category"
    ),
    on="product_id",
    how="inner"
)

customers_df = spark.read.table("customers")
enriched_orders = enriched_orders.join(
    customers_df.select(
        "customer_id",
        "customer_name"
    ),
    on="customer_id",
    how="inner"
)

# Add a 'year' column extracted from 'order_date'
enriched_orders = enriched_orders.withColumn(
    "year",
    F.year(
        F.to_date("order_date", "d/M/yyyy")
    )
)

# Annual profit analysis
profit_by_year = enriched_orders.groupBy("year").agg(
    # Group the enriched_orders DataFrame by the 'Year' column
    # Aggregate the total profit for each year using the sum function
    F.sum("profit").alias("total_profit") # Rename the aggregated column to 'Total_Profit'
)


# Product Category profit analysis
profit_by_category = enriched_orders.groupBy('category').agg(
    # Group the enriched_orders DataFrame by the 'Category' column
    # Aggregate the total profit for each product category using the sum function
    F.sum('profit').alias('total_profit')  # Rename the aggregated column to 'Total_Profit'
)

# Product Sub-Category profit analysis
profit_by_sub_category = enriched_orders.groupBy('sub_category').agg(
    # Group the enriched_orders DataFrame by the 'Sub-Category' column
    # Aggregate the total profit for each product sub-category using the sum function
    F.sum('profit').alias('total_profit')  # Rename the aggregated column to 'Total_Profit'
)

# Customer profit analysis
profit_by_cust = enriched_orders.groupBy('customer_name').agg(
    # Group the enriched_orders DataFrame by the 'Customer_Name' column
    # Aggregate the total profit for each customer using the sum function
    F.sum('profit').alias('total_profit')  # Rename the aggregated column to 'Total_Profit'
)

# Display the total profit grouped by year
display(profit_by_year)

# Display the total profit grouped by product category
display(profit_by_category)

# Display the total profit grouped by product sub-category
display(profit_by_sub_category)

# Display the total profit grouped by customer name
display(profit_by_cust)