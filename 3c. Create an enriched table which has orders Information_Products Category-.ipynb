product_metrics = spark_orders_df.groupby('Product_ID').agg(
    F.countDistinct('Order_ID').alias('Total_Orders'),
    F.sum('Price').alias('Total_Sales'),
    F.sum('Profit').alias('Total_Profit'),
    F.sum('Quantity').alias('Total_Quantity_Sold'),
    F.countDistinct('Customer_ID').alias('Unique_Customers')
)

product_metrics = product_metrics.withColumn('Total_Sales', F.round('Total_Sales', 2)) \
                                .withColumn('Total_Profit', F.round('Total_Profit', 2))

# Join with product details, Left join 
enriched_products = spark_products_df.join(product_metrics,
                                    on='Product_ID',
                                    how='left')

display(enriched_products)
