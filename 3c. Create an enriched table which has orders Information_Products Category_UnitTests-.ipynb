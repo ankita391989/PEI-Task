# unit tests for product_metrics and enriched_products
def test_product_metrics_columns():
    expected_columns = {
        'Product_ID', 'Total_Orders', 'Total_Sales', 'Total_Profit',
        'Total_Quantity_Sold', 'Unique_Customers'
    }
    actual_columns = set(product_metrics.columns)
    assert expected_columns.issubset(actual_columns), "Product metrics columns missing."

def test_enriched_products_join():
    # All Product_IDs in spark_products_df should be present in enriched_products
    product_ids = set(row['Product_ID'] for row in spark_products_df.select('Product_ID').collect())
    enriched_ids = set(row['Product_ID'] for row in enriched_products.select('Product_ID').collect())
    assert product_ids.issubset(enriched_ids), "Left join failed: missing Product_IDs in enriched_products."

def test_total_orders_non_negative_products():
    # Total_Orders should be non-negative
    min_orders = product_metrics.agg(F.min('Total_Orders')).collect()[0][0]
    assert min_orders >= 0, "Total_Orders contains negative values in product_metrics."

def test_total_sales_profit_non_negative_products():
    # Total_Sales and Total_Profit should be non-negative or null
    for col_name in ['Total_Sales', 'Total_Profit']:
        min_value = product_metrics.agg(F.min(col_name)).collect()[0][0]
        assert (min_value is None) or (min_value >= 0), f"{col_name} contains negative values in product_metrics."

def test_total_quantity_sold_non_negative():
    # Total_Quantity_Sold should be non-negative or null
    min_value = product_metrics.agg(F.min('Total_Quantity_Sold')).collect()[0][0]
    assert (min_value is None) or (min_value >= 0), "Total_Quantity_Sold contains negative values in product_metrics."

def test_unique_customers_non_negative():
    # Unique_Customers should be non-negative
    min_value = product_metrics.agg(F.min('Unique_Customers')).collect()[0][0]
    assert (min_value is None) or (min_value >= 0), "Unique_Customers contains negative values in product_metrics."