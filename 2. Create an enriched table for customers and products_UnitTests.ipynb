# 2. Create an enriched table for customers and products_UnitTests


import pytest
import pandas as pd
from unittest import mock

# ------------------- Fixtures for test data setup -------------------

@pytest.fixture
def customers_df_fixture():
    # Setup: DataFrame with sanitized column names and a 'phone' column with some nulls
    data = {
        'customer_id': ['C001', 'C002', None],
        'name': ['Alice', 'Bob', 'Charlie'],
        'phone': ['123', None, '456'],
        'join_date': ['01/01/2022', '15/02/2022', '31/12/2021']
    }
    df = pd.DataFrame(data)
    return df

@pytest.fixture
def sanitized_customers_df(customers_df_fixture):
    # Simulate dropping 'phone' (columns already sanitized)
    df = customers_df_fixture.drop('phone', axis=1)
    return df

@pytest.fixture
def date_parsing_df():
    # Setup: DataFrame with sanitized column name for date strings in dd/mm/yyyy format
    df = pd.DataFrame({'join_date': ['01/01/2022', '31/12/2021', '15/02/2022']})
    return df

# ------------------- Test: Column Drop Logic -------------------

def test_drop_phone_column(customers_df_fixture):
    """
    Ensure 'phone' column is dropped and not present in the DataFrame.
    """
    df = customers_df_fixture.drop('phone', axis=1)
    assert 'phone' not in df.columns, "'phone' column was not dropped."

@pytest.mark.parametrize("col_to_drop,expected_cols", [
    ('phone', {'customer_id', 'name', 'join_date'}),
    ('name', {'customer_id', 'phone', 'join_date'}),
])
def test_drop_column_parametrized(customers_df_fixture, col_to_drop, expected_cols):
    """
    Parametrized test for dropping different columns and checking result.
    """
    df = customers_df_fixture.drop(col_to_drop, axis=1)
    assert set(df.columns) == expected_cols, f"Columns after dropping {col_to_drop} are incorrect."

# ------------------- Test: Column Name Sanitization -------------------

def test_column_name_sanitization(customers_df_fixture):
    """
    Ensure column names are sanitized to lowercase and underscores.
    """
    df = customers_df_fixture.drop('phone', axis=1)
    for col in df.columns:
        assert ' ' not in col and col == col.lower(), "Column name sanitization failed."

# ------------------- Test: Date Parsing Logic -------------------

@pytest.mark.parametrize("date_str,expected", [
    ("01/01/2022", pd.Timestamp("2022-01-01")),
    ("31/12/2021", pd.Timestamp("2021-12-31")),
    ("15/02/2022", pd.Timestamp("2022-02-15")),
])
def test_date_parsing(date_str, expected):
    """
    Ensure dd/mm/yyyy date strings are parsed correctly.
    """
    parsed = pd.to_datetime(date_str, format="%d/%m/%Y")
    assert parsed == expected, f"Date parsing failed for {date_str}"

def test_date_parsing_invalid():
    """
    Ensure invalid date format raises error.
    """
    with pytest.raises(ValueError):
        pd.to_datetime("2022/01/01", format="%d/%m/%Y")

# ------------------- Test: DataFrame Not Empty After Drop -------------------

def test_customers_df_not_empty(customers_df_fixture):
    """
    Ensure DataFrame is not empty after dropping a column.
    """
    df = customers_df_fixture.drop('phone', axis=1)
    assert not df.empty, "DataFrame is empty after dropping column."

# ------------------- Test: No Nulls in Key Columns -------------------

@pytest.mark.parametrize("col", ['customer_id', 'name'])
def test_no_nulls_in_key_columns(customers_df_fixture, col):
    """
    Ensure key columns do not contain nulls.
    """
    df = customers_df_fixture.drop('phone', axis=1)
    assert df[col].notnull().all(), f"Nulls found in key column: {col}"

# ------------------- Test: Data Types of Columns -------------------

@pytest.mark.parametrize("col,expected_type", [
    ('customer_id', str),
    ('name', str),
])
def test_column_types(customers_df_fixture, col, expected_type):
    """
    Ensure columns have expected data types.
    """
    df = customers_df_fixture.drop('phone', axis=1)
    # Only check non-null values
    assert df[col].dropna().apply(lambda x: isinstance(x, expected_type)).all(), f"{col} type mismatch."

# ------------------- Test: Error Handling for Drop -------------------

@pytest.mark.parametrize("errors_setting,should_raise", [
    ('raise', True),
    ('ignore', False),
])
def test_drop_nonexistent_column_error_handling(customers_df_fixture, errors_setting, should_raise):
    """
    Test error handling when dropping a non-existent column.
    """
    df = customers_df_fixture.drop('phone', axis=1)
    if should_raise:
        with pytest.raises(KeyError):
            df.drop('phone', axis=1, errors=errors_setting)
    else:
        df2 = df.drop('phone', axis=1, errors=errors_setting)
        assert df2.equals(df), "DataFrame changed when dropping non-existent column with errors='ignore'."

# ------------------- Test: Mocking DataFrame Drop Logic -------------------

def test_drop_column_mock(monkeypatch):
    """
    Mock DataFrame.drop to ensure logic is isolated and not dependent on pandas internals.
    """
    df = pd.DataFrame({'a': [1], 'b': [2]})
    with mock.patch.object(pd.DataFrame, 'drop', return_value=pd.DataFrame({'a': [1]})) as mock_drop:
        result = df.drop('b', axis=1)
        mock_drop.assert_called_once_with('b', axis=1)
        assert 'a' in result.columns and 'b' not in result.columns, "Mocked drop did not behave as expected."

# ------------------- Test: Join/Aggregation Example -------------------

def test_customers_orders_join(customers_df_fixture):
    """
    Example: Test join logic between customers and orders DataFrames.
    """
    orders = pd.DataFrame({'customer_id': ['C001', 'C002'], 'order_amount': [100, 200]})
    df = customers_df_fixture.drop('phone', axis=1)
    joined = pd.merge(df, orders, on='customer_id', how='inner')
    assert set(joined['customer_id']) == {'C001', 'C002'}, "Join did not produce expected customer IDs."
    assert 'order_amount' in joined.columns, "Order Amount column missing after join."