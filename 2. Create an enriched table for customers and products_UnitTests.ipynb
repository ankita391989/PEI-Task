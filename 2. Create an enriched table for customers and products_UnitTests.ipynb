# Unit tests for dropping 'phone' column and data integrity

def test_phone_column_dropped():
    assert 'phone' not in customers_df.columns, "'phone' column was not dropped from customers_df."

def test_customers_df_not_empty():
    assert not customers_df.empty, "customers_df is empty after dropping 'phone' column."

def test_customers_df_type():
    import pandas as pd
    assert isinstance(customers_df, pd.DataFrame), "customers_df is not a DataFrame after dropping 'phone'."

def test_customers_df_no_nulls():
    assert customers_df.notnull().all().all(), "customers_df contains null values after dropping 'phone'."

def test_customers_df_column_types():
    assert customers_df['Customer ID'].apply(lambda x: isinstance(x, str)).all(), "Customer ID should be string."
    assert customers_df['Name'].apply(lambda x: isinstance(x, str)).all(), "Name should be string."

def test_drop_phone_column_error_handling():
    import pandas as pd
    import pytest
    df = pd.DataFrame({'A': [1, 2], 'B': [3, 4]})
    with pytest.raises(KeyError):
        df.drop('phone', axis=1, errors='raise')

def test_drop_phone_column_no_error_with_errors_ignore():
    import pandas as pd
    df = pd.DataFrame({'A': [1, 2], 'B': [3, 4]})
    df2 = df.drop('phone', axis=1, errors='ignore')
    assert df2.equals(df), "DataFrame changed when dropping non-existent column with errors='ignore'."