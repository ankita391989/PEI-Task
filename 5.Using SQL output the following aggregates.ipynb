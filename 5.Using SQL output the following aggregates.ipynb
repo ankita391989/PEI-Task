%sql
-- Profit by year
SELECT Year, SUM(Profit) AS Total_Profit
FROM enriched_orders
GROUP BY Year;


%sql

-- Profit by year and product category
SELECT Year, Category, SUM(Profit) AS Total_Profit
FROM enriched_orders
GROUP BY Year, Category;


%sql

-- Profit by customer
SELECT Customer_Name, SUM(Profit) AS Total_Profit
FROM enriched_orders
GROUP BY Customer_Name;


%sql

-- Profit by customer and year
SELECT Customer_Name, Year, SUM(Profit) AS Total_Profit
FROM enriched_orders
GROUP BY Customer_Name, Year;