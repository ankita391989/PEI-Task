import pytest

# Basic Success Test Case: Verify total profit aggregation by year
def test_total_profit_basic_success(db_connection):
    """
    Test that SUM(Profit) by Year returns correct totals for a simple case.
    """
    insert_test_data(db_connection, [
        {"Year": 2022, "Profit": 100000},
        {"Year": 2023, "Profit": 125000}
    ])
    query = "SELECT Year, SUM(Profit) AS Total_Profit FROM enriched_orders GROUP BY Year;"
    result = run_sql_query(db_connection, query)
    expected = [
        {"Year": 2022, "Total_Profit": 100000},
        {"Year": 2023, "Total_Profit": 125000}
    ]
    assert result == expected

# Beyond Basic: Multiple entries per year, aggregation correctness
def test_multiple_entries_same_year(db_connection):
    """
    Test aggregation when multiple rows exist for the same year.
    """
    insert_test_data(db_connection, [
        {"Year": 2023, "Profit": 50000},
        {"Year": 2023, "Profit": 30000},
        {"Year": 2023, "Profit": 45000}
    ])
    query = "SELECT Year, SUM(Profit) AS Total_Profit FROM enriched_orders GROUP BY Year;"
    result = run_sql_query(db_connection, query)
    expected_2023_profit = 50000 + 30000 + 45000
    assert any(item["Year"] == 2023 and item["Total_Profit"] == expected_2023_profit for item in result)

# Edge Case: Empty table returns empty result
def test_empty_table(db_connection):
    """
    Test that querying an empty table returns an empty list.
    """
    clear_enriched_orders_table(db_connection)
    query = "SELECT Year, SUM(Profit) AS Total_Profit FROM enriched_orders GROUP BY Year;"
    result = run_sql_query(db_connection, query)
    assert result == []

# Edge Case: Negative profit values are summed correctly
def test_negative_profit_values(db_connection):
    """
    Test that negative and positive profits are summed correctly.
    """
    clear_enriched_orders_table(db_connection)
    insert_test_data(db_connection, [
        {"Year": 2022, "Profit": -1000},
        {"Year": 2022, "Profit": 2000}
    ])
    query = "SELECT Year, SUM(Profit) AS Total_Profit FROM enriched_orders GROUP BY Year;"
    result = run_sql_query(db_connection, query)
    assert result == [{"Year": 2022, "Total_Profit": 1000}]

# Error Handling: Invalid column name in query
def test_invalid_column_name(db_connection):
    """
    Test that referencing a non-existent column raises the correct error.
    """
    query = "SELECT Yr, SUM(Profit) AS Total_Profit FROM enriched_orders GROUP BY Yr;"
    with pytest.raises(Exception) as excinfo:
        run_sql_query(db_connection, query)
    assert "Invalid column name" in str(excinfo.value) or "does not exist" in str(excinfo.value)

# Error Handling: Missing 'Profit' column in table
def test_missing_profit_column(db_connection):
    """
    Test that querying a missing column raises the correct error.
    """
    remove_column(db_connection, "Profit")
    query = "SELECT Year, SUM(Profit) AS Total_Profit FROM enriched_orders GROUP BY Year;"
    with pytest.raises(Exception) as excinfo:
        run_sql_query(db_connection, query)
    assert "does not exist" in str(excinfo.value) or "column" in str(excinfo.value)

# Data Integrity: Ensure no duplicate years in result
def test_no_duplicate_years_in_result(db_connection):
    """
    Test that each year appears only once in the aggregation result.
    """
    clear_enriched_orders_table(db_connection)
    insert_test_data(db_connection, [
        {"Year": 2022, "Profit": 1000},
        {"Year": 2022, "Profit": 2000},
        {"Year": 2023, "Profit": 3000}
    ])
    query = "SELECT Year, SUM(Profit) AS Total_Profit FROM enriched_orders GROUP BY Year;"
    result = run_sql_query(db_connection, query)
    years = [row["Year"] for row in result]
    assert len(years) == len(set(years))

# Data Integrity: Null values in Profit column are ignored in aggregation
def test_null_profit_ignored(db_connection):
    """
    Test that rows with null Profit are ignored in SUM aggregation.
    """
    clear_enriched_orders_table(db_connection)
    insert_test_data(db_connection, [
        {"Year": 2022, "Profit": None},
        {"Year": 2022, "Profit": 1000}
    ])
    query = "SELECT Year, SUM(Profit) AS Total_Profit FROM enriched_orders GROUP BY Year;"
    result = run_sql_query(db_connection, query)
    assert result == [{"Year": 2022, "Total_Profit": 1000}]