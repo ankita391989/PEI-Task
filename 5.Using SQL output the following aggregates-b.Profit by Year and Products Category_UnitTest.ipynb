# 5.Using SQL output the following aggregates-b.Profit by Year and Products Category_UnitTest

import pytest
from unittest import mock

# ------------------- Fixtures for test data setup -------------------

@pytest.fixture
def db_connection():
    """
    Fixture: Provide a mock database connection for SQL execution.
    Simulates a table with insert, clear, remove_column, and run_query methods.
    """
    class MockDB:
        def __init__(self):
            self.data = []
            self.columns = {"year", "category", "profit"}
        def clear(self):
            self.data = []
            self.columns = {"year", "category", "profit"}
        def insert(self, rows):
            self.data.extend(rows)
        def remove_column(self, col):
            self.columns.discard(col)
        def run_query(self, query):
            # Simulate SQL SUM aggregation by year and category
            if "yr" in query and "yr" not in self.columns:
                raise Exception("Invalid column name")
            if "profit" not in self.columns:
                raise Exception("profit does not exist")
            if not self.data or "year" not in self.columns or "category" not in self.columns:
                return []
            result = {}
            for row in self.data:
                year = row.get("year")
                category = row.get("category")
                profit = row.get("profit")
                if profit is None or "profit" not in self.columns:
                    continue
                key = (year, category)
                result[key] = result.get(key, 0) + profit
            return [{"year": k[0], "category": k[1], "total_profit": v} for k, v in result.items()]
    db = MockDB()
    return db

def clear_enriched_orders_table(db):
    db.clear()

def insert_test_data(db, rows):
    db.insert(rows)

def run_sql_query(db, query):
    return db.run_query(query)

def remove_column(db, col):
    db.remove_column(col)

# ------------------- Parametrized and Edge Case Tests -------------------

@pytest.mark.parametrize("test_rows,expected", [
    # Basic: Two years, two categories, positive profits
    (
        [
            {"year": 2022, "category": "Cat1", "profit": 1000},
            {"year": 2022, "category": "Cat2", "profit": 2000},
            {"year": 2023, "category": "Cat1", "profit": 3000}
        ],
        [
            {"year": 2022, "category": "Cat1", "total_profit": 1000},
            {"year": 2022, "category": "Cat2", "total_profit": 2000},
            {"year": 2023, "category": "Cat1", "total_profit": 3000}
        ]
    ),
    # Multiple rows for same year/category
    (
        [
            {"year": 2022, "category": "Cat1", "profit": 500},
            {"year": 2022, "category": "Cat1", "profit": 1500},
            {"year": 2022, "category": "Cat2", "profit": 2000}
        ],
        [
            {"year": 2022, "category": "Cat1", "total_profit": 2000},
            {"year": 2022, "category": "Cat2", "total_profit": 2000}
        ]
    ),
    # Negative and positive profits
    (
        [
            {"year": 2023, "category": "Cat1", "profit": -100},
            {"year": 2023, "category": "Cat1", "profit": 200}
        ],
        [
            {"year": 2023, "category": "Cat1", "total_profit": 100}
        ]
    ),
    # Null profit ignored
    (
        [
            {"year": 2022, "category": "Cat1", "profit": None},
            {"year": 2022, "category": "Cat1", "profit": 1000}
        ],
        [
            {"year": 2022, "category": "Cat1", "total_profit": 1000}
        ]
    ),
    # Null year/category grouping
    (
        [
            {"year": None, "category": "Cat1", "profit": 500},
            {"year": 2025, "category": None, "profit": 1000}
        ],
        [
            {"year": None, "category": "Cat1", "total_profit": 500},
            {"year": 2025, "category": None, "total_profit": 1000}
        ]
    ),
])
def test_total_profit_by_year_category_aggregation(db_connection, test_rows, expected):
    """
    Parametrized: Test SUM(profit) by year and category for various edge cases and input scenarios.
    Ensures correct aggregation and grouping, including nulls and negatives.
    """
    clear_enriched_orders_table(db_connection)
    insert_test_data(db_connection, test_rows)
    query = "SELECT year, category, SUM(profit) AS total_profit FROM enriched_orders GROUP BY year, category;"
    result = run_sql_query(db_connection, query)
    # Compare sets for unordered results
    assert {tuple(sorted(r.items())) for r in result} == {tuple(sorted(r.items())) for r in expected}

def test_empty_table_returns_empty_result(db_connection):
    """
    Edge: Querying an empty table should return an empty result.
    """
    clear_enriched_orders_table(db_connection)
    query = "SELECT year, category, SUM(profit) AS total_profit FROM enriched_orders GROUP BY year, category;"
    result = run_sql_query(db_connection, query)
    assert result == []

def test_no_duplicate_year_category_in_result(db_connection):
    """
    Data Integrity: Each (year, category) should appear only once in the aggregation result.
    """
    clear_enriched_orders_table(db_connection)
    insert_test_data(db_connection, [
        {"year": 2022, "category": "Cat1", "profit": 1000},
        {"year": 2022, "category": "Cat1", "profit": 2000},
        {"year": 2023, "category": "Cat2", "profit": 3000}
    ])
    query = "SELECT year, category, SUM(profit) AS total_profit FROM enriched_orders GROUP BY year, category;"
    result = run_sql_query(db_connection, query)
    keys = [(row["year"], row["category"]) for row in result]
    assert len(keys) == len(set(keys))

@pytest.mark.parametrize("query,expected_error", [
    ("SELECT yr, category, SUM(profit) AS total_profit FROM enriched_orders GROUP BY yr, category;", "Invalid column name"),
    ("SELECT year, category, SUM(profit) AS total_profit FROM enriched_orders GROUP BY year, category;", "does not exist"),
])
def test_invalid_column_name_or_missing_profit_raises_error(db_connection, query, expected_error):
    """
    Error Handling: Referencing a non-existent column or missing profit should raise an error.
    """
    if "profit" in query:
        remove_column(db_connection, "profit")
    with pytest.raises(Exception) as excinfo:
        run_sql_query(db_connection, query)
    assert expected_error in str(excinfo.value)

def test_total_profit_data_type_is_numeric(db_connection):
    """
    Data Integrity: total_profit should be numeric (int or float).
    """
    clear_enriched_orders_table(db_connection)
    insert_test_data(db_connection, [{"year": 2022, "category": "Cat1", "profit": 1000}])
    query = "SELECT year, category, SUM(profit) AS total_profit FROM enriched_orders GROUP BY year, category;"
    result = run_sql_query(db_connection, query)
    assert isinstance(result[0]["total_profit"], (int, float))

def test_groupby_result_schema(db_connection):
    """
    Data Integrity: Result should have exactly three columns: year, category, and total_profit.
    """
    clear_enriched_orders_table(db_connection)
    insert_test_data(db_connection, [{"year": 2022, "category": "Cat1", "profit": 1000}])
    query = "SELECT year, category, SUM(profit) AS total_profit FROM enriched_orders GROUP BY year, category;"
    result = run_sql_query(db_connection, query)
    assert set(result[0].keys()) == {"year", "category", "total_profit"}

def test_run_sql_query_mock(monkeypatch):
    """
    Mocking: Ensure run_sql_query is called and result is returned as expected.
    Isolates logic from actual DB implementation.
    """
    mock_run = lambda db, query: [{"year": 2022, "category": "Cat1", "total_profit": 1000}]
    monkeypatch.setattr(__name__, "run_sql_query", mock_run)
    db = object()
    query = "SELECT year, category, SUM(profit) AS total_profit FROM enriched_orders GROUP BY year, category;"
    result = run_sql_query(db, query)
    assert result == [{"year": 2022, "category": "Cat1", "total_profit": 1000}]

# ------------------- Column Name Sanitization Logic -------------------

@pytest.mark.parametrize("input_cols,expected_cols", [
    (["year", "category", "total profit"], ["year", "category", "total_profit"]),
    (["order id", "profit"], ["order_id", "profit"]),
])
def test_column_name_sanitization(input_cols, expected_cols):
    """
    Test that column name sanitization replaces spaces with underscores and preserves names.
    """
    sanitized = [col.replace(' ', '_') for col in input_cols]
    assert sanitized == expected_cols

# ------------------- Date Parsing Logic -------------------

@pytest.mark.parametrize("date_str,expected", [
    ("1/1/2022", "2022-01-01"),
    ("31/12/2021", "2021-12-31"),
    ("15/2/2022", "2022-02-15"),
    ("2022/1/1", None),  # Invalid format
    ("", None),            # Empty string
    (None, None)           # None value
])
def test_parse_date_dd_mm_yyyy(date_str, expected):
    """
    Test that d/m/yyyy date strings are parsed correctly, and invalid formats return None.
    """
    import pandas as pd
    def parse_date(date_str):
        try:
            return pd.to_datetime(date_str, format='%d/%m/%Y').strftime("%Y-%m-%d")
        except Exception:
            return None
    assert parse_date(date_str) == expected