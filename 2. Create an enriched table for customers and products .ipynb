customers_df= customers_df.drop('phone', axis=1) 
# dropping column with bad data (unneccasry, as not being used anywhere) Thus the table is now enriched without any bad data