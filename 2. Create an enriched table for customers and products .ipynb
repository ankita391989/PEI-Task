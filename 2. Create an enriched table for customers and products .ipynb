#2. Create an enriched table for customers and products 

customers_df= customers_df.drop('phone', axis=1) 
# dropping column with bad data (unneccasry, as not being used anywhere) Thus the table is now enriched without any bad data

# Parse date function
def parse_date(date_str):
    try:
        return pd.to_datetime(date_str, format='%d/%m/%Y')
    except:
        return pd.NaT

# Transform dates and extract year
orders_df['order_date'] = orders_df['order_date'].apply(parse_date)
orders_df['ship_date'] = orders_df['ship_date'].apply(parse_date)
orders_df['year'] = orders_df['order_date'].dt.year