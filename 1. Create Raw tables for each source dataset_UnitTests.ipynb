# Unit tests for file loading functions and dataframes

def test_orders_json_load():
    # Test that Orders JSON loads correctly into a non-empty DataFrame with expected columns
    with open('/Volumes/workspace/default/temp/Orders.json', 'r') as f:
        data = json.load(f)
    df = pd.DataFrame(data)
    assert not df.empty, "Orders DataFrame is empty."
    assert isinstance(df, pd.DataFrame), "Orders data is not a DataFrame."
    assert set(df.columns) == set(orders_df.columns), "Orders DataFrame columns mismatch."

def test_products_csv_load():
    # Test that Products CSV loads correctly into a non-empty DataFrame with expected columns
    df = pd.read_csv('/Volumes/workspace/default/temp/Products.csv')
    assert not df.empty, "Products DataFrame is empty."
    assert isinstance(df, pd.DataFrame), "Products data is not a DataFrame."
    assert set(df.columns) == set(products_df.columns), "Products DataFrame columns mismatch."

def test_customers_excel_load():
    # Test that Customers Excel loads correctly into a non-empty DataFrame with expected columns
    df = pd.read_excel('/Volumes/workspace/default/temp/Customer.xlsx')
    assert not df.empty, "Customers DataFrame is empty."
    assert isinstance(df, pd.DataFrame), "Customers data is not a DataFrame."
    assert set(df.columns) == set(customers_df.columns), "Customers DataFrame columns mismatch."

def test_orders_json_wrong_structure(tmp_path):
    # Test that loading a JSON file with wrong structure raises a ValueError
    wrong_json = {"unexpected": "structure"}
    file_path = tmp_path / "wrong_orders.json"
    with open(file_path, 'w') as f:
        json.dump(wrong_json, f)
    with pytest.raises(ValueError):
        pd.DataFrame(json.load(open(file_path)))

def test_products_csv_missing_headers(tmp_path):
    # Test that loading a CSV file with missing headers raises a ParserError
    file_path = tmp_path / "missing_headers.csv"
    with open(file_path, 'w') as f:
        f.write("1,2,3\n4,5,6")
    with pytest.raises(pd.errors.ParserError):
        pd.read_csv(file_path, header=None).columns == products_df.columns

def test_empty_files(tmp_path):
    # Test that loading empty files (JSON, CSV, Excel) results in appropriate errors or empty DataFrames
    # Empty JSON
    empty_json = tmp_path / "empty.json"
    empty_json.write_text("")
    with pytest.raises(json.JSONDecodeError):
        json.load(open(empty_json))
    # Empty CSV
    empty_csv = tmp_path / "empty.csv"
    empty_csv.write_text("")
    df = pd.read_csv(empty_csv)
    assert df.empty, "Empty CSV should result in empty DataFrame."
    # Empty Excel
    empty_excel = tmp_path / "empty.xlsx"
    pd.DataFrame().to_excel(empty_excel)
    df = pd.read_excel(empty_excel)
    assert df.empty, "Empty Excel should result in empty DataFrame."

def test_orders_data_integrity_and_types():
    # Test that Orders DataFrame has no nulls and correct data types for key columns
    assert orders_df.notnull().all().all(), "Orders DataFrame contains null values."
    assert orders_df['Order ID'].apply(lambda x: isinstance(x, str)).all(), "Order ID should be string."
    assert pd.to_datetime(orders_df['Order Date'], errors='coerce').notnull().all(), "Order Date should be valid dates."

def test_products_data_integrity_and_types():
    # Test that Products DataFrame has no nulls and correct data types for key columns
    assert products_df.notnull().all().all(), "Products DataFrame contains null values."
    assert products_df['Product ID'].apply(lambda x: isinstance(x, str)).all(), "Product ID should be string."
    assert products_df['Price'].apply(lambda x: isinstance(x, (int, float))).all(), "Price should be numeric."

def test_customers_data_integrity_and_types():
    # Test that Customers DataFrame has no nulls and correct data types for key columns
    assert customers_df.notnull().all().all(), "Customers DataFrame contains null values."
    assert customers_df['Customer ID'].apply(lambda x: isinstance(x, str)).all(), "Customer ID should be string."
    assert customers_df['Name'].apply(lambda x: isinstance(x, str)).all(), "Name should be string."