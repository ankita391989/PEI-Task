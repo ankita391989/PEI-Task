# 1. Create Raw tables for each source dataset_UnitTests

import pytest
import pandas as pd
import json
from unittest import mock

# ------------------- Fixtures for test data setup -------------------

@pytest.fixture
def sample_orders_json(tmp_path):
    # Creates a valid Orders JSON file for testing
    data = [{"order_id": 1, "amount": 100}, {"order_id": 2, "amount": 200}]
    file_path = tmp_path / "Orders.json"
    with open(file_path, 'w') as f:
        json.dump(data, f)
    return file_path

@pytest.fixture
def sample_products_csv(tmp_path):
    # Creates a valid Products CSV file for testing
    df = pd.DataFrame({"product_id": [1, 2], "price": [10, 20]})
    file_path = tmp_path / "Products.csv"
    df.to_csv(file_path, index=False)
    return file_path

@pytest.fixture
def sample_customers_excel(tmp_path):
    # Creates a valid Customers Excel file for testing
    df = pd.DataFrame({"customer_id": [1, 2], "name": ["Alice", "Bob"]})
    file_path = tmp_path / "Customer.xlsx"
    df.to_excel(file_path, index=False)
    return file_path

@pytest.fixture(params=[
    ("empty.json", ""),
    ("empty.csv", ""),
    ("empty.xlsx", pd.DataFrame())
])
def empty_file(tmp_path, request):
    # Parametrized fixture for empty files of different formats
    name, content = request.param
    file_path = tmp_path / name
    if name.endswith('.json') or name.endswith('.csv'):
        file_path.write_text(content)
    else:
        content.to_excel(file_path)
    return file_path

# ------------------- Parametrized tests for file loading -------------------

@pytest.mark.parametrize("file_fixture, loader, expected_type", [
    ("sample_orders_json", lambda f: pd.DataFrame(json.load(open(f))), pd.DataFrame),
    ("sample_products_csv", pd.read_csv, pd.DataFrame),
    ("sample_customers_excel", pd.read_excel, pd.DataFrame)
])
def test_file_load_success(request, file_fixture, loader, expected_type):
    """
    Test that valid files load into non-empty DataFrames of correct type.
    """
    file_path = request.getfixturevalue(file_fixture)
    df = loader(file_path)
    assert not df.empty, f"{file_fixture} resulted in empty DataFrame."
    assert isinstance(df, expected_type), f"{file_fixture} did not return a DataFrame."

# ------------------- Edge case tests for empty files -------------------

@pytest.mark.parametrize("file_name, loader, expected_exception", [
    ("empty.json", lambda f: json.load(open(f)), json.JSONDecodeError),
    ("empty.csv", pd.read_csv, None),
    ("empty.xlsx", pd.read_excel, None)
])
def test_empty_file_behavior(empty_file, file_name, loader, expected_exception):
    """
    Test loading empty files: JSON should raise, CSV/Excel should return empty DataFrame.
    """
    if empty_file.name == file_name:
        if expected_exception:
            with pytest.raises(expected_exception):
                loader(empty_file)
        else:
            df = loader(empty_file)
            assert df.empty, f"Empty {file_name} should result in empty DataFrame."

# ------------------- Test for wrong JSON structure -------------------

def test_orders_json_wrong_structure(tmp_path):
    """
    Test that loading a JSON file with unexpected structure raises ValueError when converting to DataFrame.
    """
    wrong_json = {"unexpected": "structure"}
    file_path = tmp_path / "wrong_orders.json"
    with open(file_path, 'w') as f:
        json.dump(wrong_json, f)
    # DataFrame expects a list of dicts, not a dict
    with pytest.raises(ValueError):
        pd.DataFrame(json.load(open(file_path)))

# ------------------- Mocking file reading logic -------------------

def test_orders_json_load_mock(monkeypatch):
    """
    Test Orders JSON loading logic in isolation using mocking.
    """
    mock_data = [{"order_id": 1, "amount": 100}]
    # Mock json.load to return mock_data regardless of file
    with mock.patch("json.load", return_value=mock_data):
        df = pd.DataFrame(json.load(mock.Mock()))
        assert not df.empty, "Mocked Orders DataFrame is empty."
        assert "order_id" in df.columns, "Expected column missing in mocked DataFrame."

# ------------------- Purposeful assertion: schema validation example -------------------

def test_products_csv_schema(sample_products_csv):
    """
    Test that Products CSV contains expected columns.
    """
    df = pd.read_csv(sample_products_csv)
    expected_columns = {"product_id", "price"}
    assert expected_columns.issubset(df.columns), "Products CSV missing expected columns."