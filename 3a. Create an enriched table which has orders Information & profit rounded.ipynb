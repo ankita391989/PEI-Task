from pyspark.sql.functions import trim, regexp_replace, when, col


# save raw tables
#Rename Columns to remove spaces for Spark Compatibility

orders_df = orders_df.rename(columns=lambda x: x.replace(" ", "_"))
products_df = products_df.rename(columns=lambda x: x.replace(" ", "_"))
customers_df = customers_df.rename(columns=lambda x: x.replace(" ", "_"))

spark_orders_df = spark.createDataFrame(orders_df)
spark_products_df = spark.createDataFrame(products_df)
spark_customers_df = spark.createDataFrame(customers_df)

spark_orders_df = spark_orders_df.dropna()
spark_customers_df = spark_customers_df.dropna()

spark_customers_df = spark_customers_df.withColumn(
    "Customer_Name",
    trim(
        regexp_replace(
            regexp_replace("Customer_Name", "[^a-zA-Z ]", ""),  # remove special chars and digits from customer name
            " +",  # regex for one or more spaces
            " "    # replace with single space
        )
    )
)


# Enriched table with required columns and Profit rounded to 2 decimals
enriched_orders = spark_orders_df \
    .withColumn("Profit", spark_round("Profit", 2)) \
    .join(
        spark_customers_df.select('Customer_ID', 'Customer_Name', 'Country'),
        on='Customer_ID', how='inner'
    ).join(
        spark_products_df.select('Product_ID', 'Category', 'Sub-Category'),
        on='Product_ID', how='inner'
    )

display(enriched_orders)

# Save enriched table
enriched_orders.write.mode("overwrite").saveAsTable("enriched_orders")

spark_orders_df.write.mode("overwrite").saveAsTable("orders")
spark_products_df.write.mode("overwrite").saveAsTable("products")
spark_customers_df.write.mode("overwrite").saveAsTable("customers")

# Parse date function
def parse_date(date_str):
    try:
        return pd.to_datetime(date_str, format='%d/%m/%Y')
    except:
        return pd.NaT

# Transform dates and extract year
orders_df['Order Date'] = orders_df['Order Date'].apply(parse_date)
orders_df['Ship Date'] = orders_df['Ship Date'].apply(parse_date)
orders_df['Year'] = orders_df['Order Date'].dt.year