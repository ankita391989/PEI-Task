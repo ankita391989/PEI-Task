
# 3a. Create an enriched table which has orders Information & profit rounded

from pyspark.sql.functions import trim, regexp_replace, when, col, round


spark_orders_df = spark_orders_df.dropna()
spark_customers_df = spark_customers_df.dropna()

spark_customers_df = spark_customers_df.withColumn(
    "customer_name",
    trim(
        regexp_replace(
            regexp_replace("customer_name", "[^a-zA-Z ]", ""),  # remove special chars and digits from customer name
            " +",  # regex for one or more spaces
            " "    # replace with single space
        )
    )
)


# Enriched table with required columns and Profit rounded to 2 decimals
enriched_orders = spark_orders_df \
    .withColumn("profit", round(col("profit"), 2)) \
    .join(
        spark_customers_df.select('customer_id', 'customer_name', 'country'),
        on='customer_id', how='inner'
    ).join(
        spark_products_df.select('product_id', 'category', 'sub_category'),
        on='product_id', how='inner'
    )

display(enriched_orders)


enriched_orders.write.mode("overwrite").option("overwriteSchema", "true").saveAsTable("enriched_orders")

enriched_orders.write.mode("overwrite").saveAsTable("enriched_orders")

#spark_orders_df.write.mode("overwrite").saveAsTable("orders")
spark_products_df.write.mode("overwrite").saveAsTable("products")
spark_customers_df.write.mode("overwrite").saveAsTable("customers")

