import pytest

# ----------------- BASIC SUCCESS TEST CASES -----------------

def test_sum_profit_by_year_basic(db_connection):
    """
    Basic: Test SUM(Profit) by Year returns correct totals for a simple case.
    """
    clear_enriched_orders_table(db_connection)
    insert_test_data(db_connection, [
        {"Year": 2021, "Profit": 1000},
        {"Year": 2022, "Profit": 2000}
    ])
    query = "SELECT Year, SUM(Profit) AS Total_Profit FROM enriched_orders GROUP BY Year;"
    result = run_sql_query(db_connection, query)
    expected = [
        {"Year": 2021, "Total_Profit": 1000},
        {"Year": 2022, "Total_Profit": 2000}
    ]
    assert result == expected

def test_sum_profit_by_year_multiple_rows_same_year(db_connection):
    """
    Basic: Test aggregation with multiple rows for the same year.
    """
    clear_enriched_orders_table(db_connection)
    insert_test_data(db_connection, [
        {"Year": 2023, "Profit": 100},
        {"Year": 2023, "Profit": 200},
        {"Year": 2023, "Profit": 300}
    ])
    query = "SELECT Year, SUM(Profit) AS Total_Profit FROM enriched_orders GROUP BY Year;"
    result = run_sql_query(db_connection, query)
    assert result == [{"Year": 2023, "Total_Profit": 600}]

# ----------------- BEYOND BASIC SUCCESS CASES -----------------

def test_sum_profit_by_year_multiple_years(db_connection):
    """
    Beyond Basic: Test aggregation for more than two years.
    """
    clear_enriched_orders_table(db_connection)
    insert_test_data(db_connection, [
        {"Year": 2020, "Profit": 10},
        {"Year": 2021, "Profit": 20},
        {"Year": 2022, "Profit": 30}
    ])
    query = "SELECT Year, SUM(Profit) AS Total_Profit FROM enriched_orders GROUP BY Year;"
    result = run_sql_query(db_connection, query)
    years = set([row["Year"] for row in result])
    assert years == {2020, 2021, 2022}

def test_sum_profit_with_zero_and_positive(db_connection):
    """
    Beyond Basic: Test that zero and positive profits are summed correctly.
    """
    clear_enriched_orders_table(db_connection)
    insert_test_data(db_connection, [
        {"Year": 2024, "Profit": 0},
        {"Year": 2024, "Profit": 2000}
    ])
    query = "SELECT Year, SUM(Profit) AS Total_Profit FROM enriched_orders GROUP BY Year;"
    result = run_sql_query(db_connection, query)
    assert result == [{"Year": 2024, "Total_Profit": 2000}]

# ----------------- EDGE CONDITIONS & ERROR HANDLING -----------------

def test_empty_table_returns_empty_result(db_connection):
    """
    Edge: Test that querying an empty table returns an empty list.
    """
    clear_enriched_orders_table(db_connection)
    query = "SELECT Year, SUM(Profit) AS Total_Profit FROM enriched_orders GROUP BY Year;"
    result = run_sql_query(db_connection, query)
    assert result == []

def test_negative_and_positive_profit(db_connection):
    """
    Edge: Test that negative and positive profits are summed correctly.
    """
    clear_enriched_orders_table(db_connection)
    insert_test_data(db_connection, [
        {"Year": 2022, "Profit": -1000},
        {"Year": 2022, "Profit": 2000}
    ])
    query = "SELECT Year, SUM(Profit) AS Total_Profit FROM enriched_orders GROUP BY Year;"
    result = run_sql_query(db_connection, query)
    assert result == [{"Year": 2022, "Total_Profit": 1000}]

def test_null_profit_ignored_in_sum(db_connection):
    """
    Edge: Test that rows with null Profit are ignored in SUM aggregation.
    """
    clear_enriched_orders_table(db_connection)
    insert_test_data(db_connection, [
        {"Year": 2022, "Profit": None},
        {"Year": 2022, "Profit": 1000}
    ])
    query = "SELECT Year, SUM(Profit) AS Total_Profit FROM enriched_orders GROUP BY Year;"
    result = run_sql_query(db_connection, query)
    assert result == [{"Year": 2022, "Total_Profit": 1000}]

def test_null_year_grouping(db_connection):
    """
    Edge: Test that rows with null Year are grouped under null and included in result.
    """
    clear_enriched_orders_table(db_connection)
    insert_test_data(db_connection, [
        {"Year": None, "Profit": 500},
        {"Year": 2025, "Profit": 1000}
    ])
    query = "SELECT Year, SUM(Profit) AS Total_Profit FROM enriched_orders GROUP BY Year;"
    result = run_sql_query(db_connection, query)
    years = set([row["Year"] for row in result])
    assert None in years and 2025 in years

def test_no_duplicate_years_in_result(db_connection):
    """
    Data Integrity: Test that each year appears only once in the aggregation result.
    """
    clear_enriched_orders_table(db_connection)
    insert_test_data(db_connection, [
        {"Year": 2022, "Profit": 1000},
        {"Year": 2022, "Profit": 2000},
        {"Year": 2023, "Profit": 3000}
    ])
    query = "SELECT Year, SUM(Profit) AS Total_Profit FROM enriched_orders GROUP BY Year;"
    result = run_sql_query(db_connection, query)
    years = [row["Year"] for row in result]
    assert len(years) == len(set(years))

def test_invalid_column_name_raises_error(db_connection):
    """
    Error Handling: Test that referencing a non-existent column raises the correct error.
    """
    query = "SELECT Yr, SUM(Profit) AS Total_Profit FROM enriched_orders GROUP BY Yr;"
    with pytest.raises(Exception) as excinfo:
        run_sql_query(db_connection, query)
    assert "Invalid column name" in str(excinfo.value) or "does not exist" in str(excinfo.value)

def test_missing_profit_column_raises_error(db_connection):
    """
    Error Handling: Test that querying a missing column raises the correct error.
    """
    remove_column(db_connection, "Profit")
    query = "SELECT Year, SUM(Profit) AS Total_Profit FROM enriched_orders GROUP BY Year;"
    with pytest.raises(Exception) as excinfo:
        run_sql_query(db_connection, query)
    assert "does not exist" in str(excinfo.value) or "column" in str(excinfo.value)

# ----------------- DATA INTEGRITY -----------------

def test_total_profit_data_type_is_numeric(db_connection):
    """
    Data Integrity: Test that the Total_Profit returned is of numeric type.
    """
    clear_enriched_orders_table(db_connection)
    insert_test_data(db_connection, [
        {"Year": 2022, "Profit": 1000}
    ])
    query = "SELECT Year, SUM(Profit) AS Total_Profit FROM enriched_orders GROUP BY Year;"
    result = run_sql_query(db_connection, query)
    assert isinstance(result[0]["Total_Profit"], (int, float))

def test_groupby_result_schema(db_connection):
    """
    Data Integrity: Test that the result has exactly two columns: Year and Total_Profit.
    """
    clear_enriched_orders_table(db_connection)
    insert_test_data(db_connection, [
        {"Year": 2022, "Profit": 1000}
    ])
    query = "SELECT Year, SUM(Profit) AS Total_Profit FROM enriched_orders GROUP BY Year;"
    result = run_sql_query(db_connection, query)
    assert set(result[0].keys()) == {"Year", "Total_Profit"}